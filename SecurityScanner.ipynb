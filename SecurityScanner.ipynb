{
 "cells": [
  {
   "cell_type": "code",
   "execution_count": 31,
   "metadata": {
    "collapsed": true
   },
   "outputs": [],
   "source": [
    "import os\n",
    "import re\n",
    "\n",
    "import numpy\n",
    "import requests\n",
    "import http_parser\n",
    "import xml.etree.ElementTree as ET\n",
    "\n",
    "from lxml import etree, html\n",
    "from collections import Counter\n",
    "\n",
    "try:\n",
    "    from http_parser.parser import HttpParser\n",
    "except ImportError:\n",
    "    from http_parser.pyparser import HttpParser\n"
   ]
  },
  {
   "cell_type": "markdown",
   "metadata": {},
   "source": [
    "## Global variables"
   ]
  },
  {
   "cell_type": "code",
   "execution_count": 32,
   "metadata": {
    "collapsed": true
   },
   "outputs": [],
   "source": [
    "COMMON_PAYLOADS_DICT = {\n",
    "                        \"a87ui\":\"Low\",\n",
    "                        \"87923\":\"Low\",\n",
    "                        \"<img/>\":\"Medium\",\n",
    "                        \"alert(1)\":\"Hight\",\n",
    "                        \"javascript:alert(1)\":\"Hight\",\n",
    "                        }\n",
    "\n",
    "VAR_SEARCH_REGEXP = [\n",
    "                     ur\"([a-zA-Z_]\\w*)\\[([a-zA-Z_]\\w*)*\\w*\\]\", # array regexp\n",
    "                     ur\"var\\s+([a-zA-Z_]\\w*)\",                 # var name regexp   \n",
    "                     ur\"([a-zA-Z_]\\w*)\\.([a-zA-Z_]\\w*)\\.*\",    # class hierarchy\n",
    "                     ur\"([a-zA-Z_]\\w*)\\s*=\\s*\\w\",              # name = value\n",
    "                     ur\"\\w+\\s*=\\s*([a-zA-Z_]\\w*)\",             # smth = name \n",
    "                     ur'''[\\\"\\']([a-zA-Z_]\\w*)[\\\"\\']:[\\\"\\']\\w*[\\\"\\']''' # \"name\":\"value\"\n",
    "                    ]\n",
    "\n",
    "JAVASCRIPT_KEYWORDS = set([\n",
    "                        'abstract','arguments','boolean','break','byte',\n",
    "                        'case','catch','char','class*','const',\n",
    "                        'continue','debugger','default','delete','do',\n",
    "                        'double','else','enum*','eval','export*',\n",
    "                        'extends*','false','final','finally','float',\n",
    "                        'for','function','goto','if','implements',\n",
    "                        'import','in','instanceof','int','interface',\n",
    "                        'let','long','native','new','null',\n",
    "                        'package','private','protected','public','return',\n",
    "                        'short','static','super*','switch','synchronized',\n",
    "                        'this','throw','throws','transient','true',\n",
    "                        'try','typeof','var','void','volatile',\n",
    "                        'while','with','yield'\n",
    "                    ])\n",
    "\n",
    "BURPSUITE_PROXIES = {\n",
    "      'http': '127.0.0.1:8080',\n",
    "      'https': '127.0.0.1:8080'\n",
    "    }\n",
    "\n",
    "CERT_FILE = os.getcwd()+\"/SecurityScanners/PortSwiggerCA.crt\" # Correct path to Burp Suite crt file\n",
    "                                                              # I add cacert.der to Firefox, and then import \n",
    "                                                              #  this .crt file \n",
    "\n"
   ]
  },
  {
   "cell_type": "markdown",
   "metadata": {},
   "source": [
    "## Http Classes"
   ]
  },
  {
   "cell_type": "code",
   "execution_count": 2,
   "metadata": {
    "collapsed": false
   },
   "outputs": [],
   "source": [
    "class HttpResponse:\n",
    "    def __init__(self,http_plain):\n",
    "        self.ResponseParser = HttpParser()\n",
    "        self.ResponseParser.execute(http_plain,len(http_plain))\n",
    "        \n",
    "    def GetContent(self):\n",
    "        return self.ResponseParser.recv_body()\n",
    "        \n",
    "    def GetHeaders(self):\n",
    "        if self.ResponseParser.is_headers_complete():\n",
    "            return dict(self.ResponseParser.get_headers())\n",
    "        else:\n",
    "            return dict()\n",
    "        \n",
    "class HttpRequest:\n",
    "    def __init__(self,http_plain):\n",
    "        self.RequestParser = HttpParser()\n",
    "        self.RequestParser.execute(http_plain,len(http_plain))\n",
    "        \n",
    "    def GetContent(self):\n",
    "        return self.RequestParser.recv_body()\n",
    "        \n",
    "    def GetHeaders(self):\n",
    "        if self.RequestParser.is_headers_complete():\n",
    "            return dict(self.RequestParser.get_headers())\n",
    "        else:\n",
    "            return dict()\n",
    "        \n",
    "        "
   ]
  },
  {
   "cell_type": "markdown",
   "metadata": {},
   "source": [
    "## Burp Suite History Class"
   ]
  },
  {
   "cell_type": "code",
   "execution_count": 3,
   "metadata": {
    "collapsed": true
   },
   "outputs": [],
   "source": [
    "class BurpHistoryItem:\n",
    "    def __init__(self,item):\n",
    "        self.item = item\n",
    "        \n",
    "        base64_response = self.item.findall(\".//response\")[0].text\n",
    "        self.response_plain = base64_response.decode('base64')\n",
    "        self.Response = HttpResponse(self.response_plain)\n",
    "        \n",
    "        base64_request = self.item.findall(\".//request\")[0].text\n",
    "        self.request_plain = base64_request.decode('base64')\n",
    "        self.Request = HttpRequest(self.request_plain)\n",
    "        \n",
    "        \n",
    "    def GetUrl(self):\n",
    "        url = self.item.findall(\".//url\")[0]\n",
    "        return url.text\n",
    "    \n",
    "    def GetHost(self):\n",
    "        host = self.item.findall(\".//host\")[0]\n",
    "        return host.text\n",
    "    \n",
    "    def GetHostIP(self):\n",
    "        host = self.item.findall(\".//host\")[0]\n",
    "        ip = host.attrib[\"ip\"]\n",
    "        return ip\n",
    "    \n",
    "    def GetPort(self):\n",
    "        port = self.item.findall(\".//port\")[0]\n",
    "        return int(port)\n",
    "    \n",
    "    def GetProtocol(self):\n",
    "        protocol = self.item.findall(\".//protocol\")[0]\n",
    "        return protocol\n",
    "    \n",
    "    def GetMethod(self):\n",
    "        method = self.item.findall(\".//method\")[0]\n",
    "        return method.text\n",
    "    \n",
    "    def GetPath(self):\n",
    "        path = self.item.findall(\".//path\")[0]\n",
    "        return path.text\n",
    "    \n",
    "    def GetExtension(self):\n",
    "        extension = self.item.findall(\".//extension\")[0]\n",
    "        return extension.text\n",
    "    \n",
    "    def GetHttpRequestData(self):\n",
    "        return http_request\n",
    "    \n",
    "    def GetRequest(self):\n",
    "        return self.Request\n",
    "    \n",
    "    def GetStatus(self):\n",
    "        status = self.item.findall(\".//status\")[0].text\n",
    "        return int(status.text)\n",
    "    \n",
    "    def GetResponseLength(self):\n",
    "        responselength = self.item.findall(\".//responselength\")[0].text\n",
    "        return int(responselength)\n",
    "    \n",
    "    def GetResponse(self):\n",
    "        return self.Response\n",
    "    \n",
    "    def GetMiemType(self):\n",
    "        miem_type = self.item.findall(\".//mimetype\")[0].text\n",
    "        \n",
    "    def GetHttpResponseData(self):\n",
    "        return self.response_plain\n",
    "    \n",
    "    def GetComment(self):\n",
    "        comment = self.item.findall(\".//comment\")[0].text\n",
    "        if comment != None:\n",
    "            return comment\n",
    "        else:\n",
    "            return \"\"\n",
    "    \n",
    "        "
   ]
  },
  {
   "cell_type": "markdown",
   "metadata": {},
   "source": [
    "## Utilities"
   ]
  },
  {
   "cell_type": "code",
   "execution_count": 4,
   "metadata": {
    "collapsed": true
   },
   "outputs": [],
   "source": [
    "def GetListOfHistItemsFromFile(filename):\n",
    "    xmlTree = ET.parse(filename)\n",
    "    xmlRoot = xmlTree.getroot()\n",
    "    \n",
    "    HistoryItemList = list()\n",
    "    \n",
    "    for item in xmlTree.findall(\"//item\"):\n",
    "        tempHistoryItem = BurpHistoryItem(item)\n",
    "        HistoryItemList.append(tempHistoryItem)\n",
    "    \n",
    "    return HistoryItemList"
   ]
  },
  {
   "cell_type": "code",
   "execution_count": 5,
   "metadata": {
    "collapsed": true
   },
   "outputs": [],
   "source": [
    "flatten = lambda l: [item for sublist in l for item in sublist]"
   ]
  },
  {
   "cell_type": "code",
   "execution_count": 6,
   "metadata": {
    "collapsed": true
   },
   "outputs": [],
   "source": [
    "def MatchUrl(text):\n",
    "    result_urls = list()\n",
    "    \n",
    "    #Search for:\n",
    "    # url: http://url\n",
    "    # url: https://url\n",
    "    # url: //url \n",
    "    \n",
    "    url_regexp = ur\"http[s]*://[0-9a-zA-z\\/\\\\\\%.\\?&=-]+|//[0-9a-zA-z\\/\\\\\\%.\\?&=-]+\"\n",
    "    \n",
    "    for url in re.finditer(url_regexp, text):\n",
    "        result_urls.append(url.group())\n",
    "    return result_urls"
   ]
  },
  {
   "cell_type": "code",
   "execution_count": 7,
   "metadata": {
    "collapsed": true
   },
   "outputs": [],
   "source": [
    "def GetUrlParams(Url):\n",
    "    if Url.find('?') != -1:\n",
    "        return re.findall(\"(\\?.+)\",Url)[0]\n",
    "    else:\n",
    "        return \"\""
   ]
  },
  {
   "cell_type": "code",
   "execution_count": 8,
   "metadata": {
    "collapsed": true
   },
   "outputs": [],
   "source": [
    "def AddPayloadToUrl(Url,VarName,Payload):\n",
    "    ResultUrl = Url\n",
    "    if Url.find('?') != -1:\n",
    "        ResultUrl += \"&\"+VarName+\"=\"+Payload\n",
    "    else:\n",
    "        ResultUrl += \"?\"+VarName+\"=\"+Payload\n",
    "    return ResultUrl"
   ]
  },
  {
   "cell_type": "code",
   "execution_count": 9,
   "metadata": {
    "collapsed": true
   },
   "outputs": [],
   "source": [
    "def GetPostVariables(Content):\n",
    "    VarRegExp = ur\"([a-zA-Z_]\\w*)=(\\w*);?\"\n",
    "    DictOfVars = dict()\n",
    "    for Match in re.finditer(VarRegExp,Content):\n",
    "        try:\n",
    "            VarName = Match.groups()[0]\n",
    "            VarValue = Match.groups()[1]\n",
    "            DictOfVars[VarName] = VarValue\n",
    "        except:\n",
    "            pass\n",
    "        \n",
    "    return DictOfVars"
   ]
  },
  {
   "cell_type": "markdown",
   "metadata": {},
   "source": [
    "## Variable Extractor"
   ]
  },
  {
   "cell_type": "code",
   "execution_count": 23,
   "metadata": {
    "collapsed": false
   },
   "outputs": [],
   "source": [
    "def FindJSVariables(PlainHtml):\n",
    "    SetOfVariables = set()\n",
    "    HTMLDocument = html.fromstring(PlainHtml)\n",
    "    \n",
    "    PageScripts = HTMLDocument.xpath(\".//script\")\n",
    "    VarList = list()\n",
    "    \n",
    "    for Script in PageScripts:\n",
    "        ScriptContent = Script.text\n",
    "        if ScriptContent == None:\n",
    "            continue\n",
    "            \n",
    "        for RegExp in VAR_SEARCH_REGEXP:\n",
    "            try:  \n",
    "                for Matched in re.finditer(RegExp,ScriptContent):\n",
    "                    for VarName in Matched.groups():\n",
    "                        if False == (VarName == None):\n",
    "                            if VarName not in JAVASCRIPT_KEYWORDS:\n",
    "                                VarList.append(VarName)\n",
    "            except:\n",
    "                continue\n",
    "                \n",
    "    VarList = list(set(VarList))\n",
    "    VarList = [item.strip(' ') for item in VarList]\n",
    "    \n",
    "    return VarList\n",
    "    "
   ]
  },
  {
   "cell_type": "code",
   "execution_count": 12,
   "metadata": {
    "collapsed": true
   },
   "outputs": [],
   "source": [
    "def ScanSiteFromBurpHistory(HistItem,Payloads,Proxies=BURPSUITE_PROXIES):\n",
    "    \n",
    "    Url = HistItem.GetUrl()\n",
    "    Headers = HistItem.GetRequest().GetHeaders()\n",
    "    Response = requests.get(Url,headers=Headers,proxies=Proxie)\n",
    "    VariableNames = FindJSVariables(Response.text)\n",
    "    \n",
    "    print \"Scanning %s Testing method: GET\\n Try %d variables and %d types of payloads\"%(\n",
    "                                                    Url,\n",
    "                                                    len(VariableNames),\n",
    "                                                    len(Payloads))\n",
    "    \n",
    "    for VariableName in VariableNames:\n",
    "        PayloadCounter = Counter()\n",
    "        for Payload in Payloads:\n",
    "            TestUrl = AddPayloadToUrl(Url,VariableName,Payload)\n",
    "            try:\n",
    "                Response = requests.get(TestUrl,headers=Headers,proxies=Proxie)\n",
    "            except:\n",
    "                print \"Failed to load %s \\nAbort...\"%(TestUrl)\n",
    "                \n",
    "            PlainHtml = Response.text\n",
    "                \n",
    "            try:    \n",
    "                PlainHtml = re.sub(re.escape(TestUrl),\"\",PlainHtml)\n",
    "            except:\n",
    "                pass\n",
    "            \n",
    "            try:\n",
    "                TestUrlParam = GetUrlParams(TestUrl)\n",
    "                PlainHtml = re.sub(re.escape(TestUrlParam),\"\",PlainHtml)\n",
    "            except:\n",
    "                pass\n",
    "            \n",
    "            if  PlainHtml.find(Payload) != -1:\n",
    "                for Match in re.finditer(Payload):\n",
    "                    PayloadCounter[Payload] += 1\n",
    "                        \n",
    "                print \"Variable %s contain value %s with severity %s which occur %d times\" %(\n",
    "                                                VariableName,\n",
    "                                                Payload,\n",
    "                                                Payloads[Payload],\n",
    "                                                PayloadCounter[Payload]\n",
    "                                                )\n",
    "    "
   ]
  },
  {
   "cell_type": "markdown",
   "metadata": {},
   "source": [
    "## Simple vulnerabilities scanner"
   ]
  },
  {
   "cell_type": "code",
   "execution_count": 30,
   "metadata": {
    "collapsed": false,
    "scrolled": true
   },
   "outputs": [
    {
     "ename": "NameError",
     "evalue": "name 'GetListOfHistItemsFromFile' is not defined",
     "output_type": "error",
     "traceback": [
      "\u001b[1;31m---------------------------------------------------------------------------\u001b[0m",
      "\u001b[1;31mNameError\u001b[0m                                 Traceback (most recent call last)",
      "\u001b[1;32m<ipython-input-30-1ce61b94c0e2>\u001b[0m in \u001b[0;36m<module>\u001b[1;34m()\u001b[0m\n\u001b[0;32m      1\u001b[0m \u001b[0mBurpHistoryFile\u001b[0m \u001b[1;33m=\u001b[0m \u001b[0mos\u001b[0m\u001b[1;33m.\u001b[0m\u001b[0mgetcwd\u001b[0m\u001b[1;33m(\u001b[0m\u001b[1;33m)\u001b[0m\u001b[1;33m+\u001b[0m\u001b[1;34m\"/hist\"\u001b[0m\u001b[1;33m\u001b[0m\u001b[0m\n\u001b[1;32m----> 2\u001b[1;33m \u001b[0mBurpHistItems\u001b[0m \u001b[1;33m=\u001b[0m \u001b[0mGetListOfHistItemsFromFile\u001b[0m\u001b[1;33m(\u001b[0m\u001b[0mBurpHistoryFile\u001b[0m\u001b[1;33m)\u001b[0m\u001b[1;33m\u001b[0m\u001b[0m\n\u001b[0m\u001b[0;32m      3\u001b[0m \u001b[1;32mfor\u001b[0m \u001b[0mitem\u001b[0m \u001b[1;32min\u001b[0m \u001b[0mBurpHistItems\u001b[0m\u001b[1;33m:\u001b[0m\u001b[1;33m\u001b[0m\u001b[0m\n\u001b[0;32m      4\u001b[0m     \u001b[0mScanSiteFromBurpHistory\u001b[0m\u001b[1;33m(\u001b[0m\u001b[0mitem\u001b[0m\u001b[1;33m,\u001b[0m\u001b[0mCOMMON_PAYLOADS_DICT\u001b[0m\u001b[1;33m)\u001b[0m\u001b[1;33m\u001b[0m\u001b[0m\n",
      "\u001b[1;31mNameError\u001b[0m: name 'GetListOfHistItemsFromFile' is not defined"
     ]
    }
   ],
   "source": [
    "BurpHistoryFile = os.getcwd()+\"/hist\"\n",
    "BurpHistItems = GetListOfHistItemsFromFile(BurpHistoryFile)\n",
    "for item in BurpHistItems:\n",
    "    ScanSiteFromBurpHistory(item,COMMON_PAYLOADS_DICT)\n"
   ]
  },
  {
   "cell_type": "markdown",
   "metadata": {},
   "source": [
    "## Test & Debug"
   ]
  },
  {
   "cell_type": "code",
   "execution_count": 11,
   "metadata": {
    "collapsed": true
   },
   "outputs": [
    {
     "name": "stdout",
     "output_type": "stream",
     "text": [
      "v.relay\n",
      "g.defer\n",
      "q.authDomain\n",
      "n.hideAll\n",
      "this._userEmail\n",
      "rlog_message\n",
      "projectEmail\n",
      "a.status\n",
      "this._JSONPCallbackParam\n",
      "this._dropdown\n",
      "e.settings.multiAuthEnabled\n",
      "g.__prefix\n",
      "b.registerLinkClickHandler\n",
      "f._triggerHideOnInit\n",
      "window.__PH\n",
      "window\n",
      "e.authForm.hide\n",
      "activeEmail\n",
      "K\n",
      "v.prototype.on\n",
      "f._triggerShowOnInit\n",
      "g.charset\n",
      "b.AccountManager\n",
      "ta\n",
      "D\n",
      "gamescnt\n",
      "b.counters._counters\n",
      "ya\n",
      "H\n",
      "\\\\\n",
      "this._rootNode\n",
      "L\n",
      "b.accountManager\n",
      "rnd\n",
      "c._triggerShowOnInit\n",
      "b.Menu\n",
      "this._anim\n",
      "adgin\n",
      "c.current\n",
      "d.games\n",
      "X\n",
      "g.src\n",
      "_\n",
      "t.timeEnd\n",
      "d\n",
      "this._processing\n",
      "this._container\n",
      ".current\n",
      "s.prototype\n",
      "h\n",
      "this._openCounter\n",
      "e.authForm.insert\n",
      "b.authLinkClickHandler\n",
      "l\n",
      "qa\n",
      "p\n",
      "this._context\n",
      "t\n",
      "b.showQuery\n",
      "document.body.style.cursor\n",
      "x\n",
      "page\n",
      "this._baseClass\n",
      "this._inited\n",
      "domain\n",
      "this._button\n",
      "n.resetShowOnInit\n",
      "b.Counters\n",
      "b.expires\n",
      "c.defer\n",
      "this._authView.style.display\n",
      "this._counters\n",
      "this._xhrTimeout\n",
      "this._rightClass\n",
      "c.id\n",
      "v.prototype\n",
      "this._animResetTimeout\n",
      "fail\n",
      "e.settings.projectsMenuEnabled\n",
      "this._node\n",
      "this.__mouseOut\n",
      "a.className\n",
      "e.loadAccountsList\n",
      "b.cssText\n",
      "this.__eventsTimeout\n",
      "this._fn\n",
      "document.cookie\n",
      "this._listAccountTimeout\n",
      ".src\n",
      "s.__uuid\n",
      "e.switchAccount\n",
      "this._xhrEnabled\n",
      "b.SCookie\n",
      "r\n",
      "c.onreadystatechange\n",
      "ra\n",
      "a.data.action\n",
      "G.prototype\n",
      "email\n",
      "this.data\n",
      "window.location\n",
      "C\n",
      "Function.prototype.bind\n",
      "wa\n",
      "bn\n",
      "this._hideTimeout\n",
      "O\n",
      "S\n",
      ".style.display\n",
      "W\n",
      "b.authMenu\n",
      "this._node.innerHTML\n",
      "path\n",
      "this._user\n",
      "this._authView\n",
      "rlog\n",
      "c\n",
      "this.type\n",
      "g\n",
      "k\n",
      "this.updateLastRequest\n",
      "b.timers.render\n",
      "s\n",
      "e.isMultiAuth\n",
      "Socials\n",
      "s.getUuid\n",
      "e.authMenu.hide\n",
      "__PHS\n",
      "xa\n",
      "this._triggerHideOnInit\n",
      "e.activeUser\n",
      "e.updateCounter\n",
      "this.__click\n",
      "e.authMenu\n",
      "a.prefix\n",
      "b.rnd\n",
      "mpop\n",
      "this._invocations\n",
      "this._dropdown.style.right\n",
      "this._triggerShowOnInit\n",
      "a.requestSource\n",
      "a.replace\n",
      "pa\n",
      "n.__all\n",
      "g.type\n",
      "newEmail\n",
      "b.projectsMenuOpen\n",
      "c.withCredentials\n",
      "back\n",
      "e.authMenu.show\n",
      "e.isAuthFormEnabled\n",
      "sz\n",
      "J\n",
      "this._noAuthView.style.display\n",
      "a.errorType\n",
      "e.authForm\n",
      "this._xhr\n",
      "v.Event\n",
      "this._updateTimeout\n",
      "V\n",
      "c.type\n",
      "this._userEmail.className\n",
      "test_id\n",
      "this._xhr2Supported\n",
      "this._requestSource\n",
      "this._opts\n",
      "this.____user\n",
      "b\n",
      "b.project\n",
      "f\n",
      "e.logoutAccount\n",
      "j\n",
      "d.params\n",
      "n\n",
      "a.innerHTML\n",
      "c.Login\n",
      "a.returnValue\n",
      "this._updateByTimeout\n",
      "headlineEmail\n",
      "ua\n",
      "this.__mouseIn\n",
      "g.async\n",
      "b.counters\n",
      "aa\n",
      "va\n",
      "v\n",
      "b.Counter\n",
      "s.projectsMenu\n",
      "null\n",
      "this._orientation\n",
      "this._animTimeout\n",
      "this._leftClass\n",
      "this._cbName\n",
      "this.update\n",
      "T.prototype\n",
      "Z\n",
      "this._noAuthView\n",
      "this._dropdown.style.width\n",
      "e.settings\n",
      "a.domain\n",
      "c.async\n",
      "arguments\n",
      "e.Login\n",
      "e.settings.enableUpdateRadars\n",
      "b.EventEmitter\n",
      "document\n",
      "e.authForm.isVisible\n",
      "q.swaDomain\n",
      "A\n",
      "g.__domain\n",
      "E\n",
      "._isAnim\n",
      "I\n",
      "e.isCorp\n",
      "s.__PHEmptyCallback\n",
      "expires\n",
      "this._userEmail.innerHTML\n",
      "a.cancelBubble\n",
      "e.cookie.s\n",
      "y\n",
      "mac\n",
      "this._openClass\n",
      "b.rbCounters\n",
      "Y\n",
      "this._rootNode.offsetParent\n",
      "class\n",
      "a\n",
      "t.log\n",
      "c._triggerHideOnInit\n",
      "t.time\n",
      "e\n",
      "c.src\n",
      "i\n",
      "e.settings.authFormEnabled\n",
      "e.authForm.show\n",
      "this._dropdown.style.display\n",
      "m\n",
      "this._open\n",
      "q\n",
      "d.mail\n",
      "this._openTimeout\n",
      "u\n",
      "this._url\n",
      "this._encoding\n",
      "sa\n",
      "Array.isArray\n",
      "d.my\n",
      "logme\n",
      "this._events\n"
     ]
    }
   ],
   "source": [
    "response = requests.get(\"https://e.mail.ru\")"
   ]
  },
  {
   "cell_type": "code",
   "execution_count": null,
   "metadata": {
    "collapsed": true
   },
   "outputs": [],
   "source": [
    "VarList = list()\n",
    "for j in VAR_SEARCH_REGEXP:\n",
    "    for i in re.finditer(j,response.text):\n",
    "        for k in i.groups():\n",
    "            if False == (k == None):\n",
    "                if k not in JAVASCRIPT_KEYWORDS:\n",
    "                    VarList.append(k)\n",
    "\n",
    "WordCounter = Counter()\n",
    "for item in VarList:\n",
    "    WordCounter[item] += 1\n",
    "    \n",
    "for item in WordCounter:\n",
    "    print \"%s : %d\"%(item,WordCounter[item])\n",
    "    \n",
    "print len([item for item in WordCounter])\n"
   ]
  },
  {
   "cell_type": "code",
   "execution_count": 190,
   "metadata": {
    "collapsed": false
   },
   "outputs": [],
   "source": [
    "name_pattern = ur\"[_a-zA-Z][_0-9a-zA-Z.]+\"\n",
    "varname_pattern = ur\"(?P<variable>[_a-zA-Z][_0-9a-zA-Z.]+(\\[(?P=variable)*\\])*)\"\n",
    "jsvar_regexp = ur\"\"  "
   ]
  },
  {
   "cell_type": "code",
   "execution_count": 191,
   "metadata": {
    "collapsed": false
   },
   "outputs": [
    {
     "data": {
      "text/plain": [
       "[('array', ''), ('name', ''), ('aaaa', '')]"
      ]
     },
     "execution_count": 191,
     "metadata": {},
     "output_type": "execute_result"
    }
   ],
   "source": [
    "re.findall(varname_pattern,\"array[name[aaaa]]=\")"
   ]
  },
  {
   "cell_type": "code",
   "execution_count": 192,
   "metadata": {
    "collapsed": false
   },
   "outputs": [
    {
     "data": {
      "text/plain": [
       "[]"
      ]
     },
     "execution_count": 192,
     "metadata": {},
     "output_type": "execute_result"
    }
   ],
   "source": [
    "regexpression = \"%s =\"%(varname_pattern)\n",
    "re.findall(regexpression,\"array[name[aaaa]]=\")"
   ]
  },
  {
   "cell_type": "code",
   "execution_count": 221,
   "metadata": {
    "collapsed": false
   },
   "outputs": [
    {
     "data": {
      "text/plain": [
       "'https://m.mail.ru/cgi-bin/signup?src=payload'"
      ]
     },
     "execution_count": 221,
     "metadata": {},
     "output_type": "execute_result"
    }
   ],
   "source": [
    "AddPayloadToUrl( 'https://m.mail.ru/cgi-bin/signup','src','payload')"
   ]
  },
  {
   "cell_type": "code",
   "execution_count": null,
   "metadata": {
    "collapsed": false
   },
   "outputs": [],
   "source": [
    "response = requests.get('https://e.mail.ru',proxies=BURPSUITE_PROXIES, verify=CERT_FILE)"
   ]
  }
 ],
 "metadata": {
  "kernelspec": {
   "display_name": "Python 2",
   "language": "python",
   "name": "python2"
  },
  "language_info": {
   "codemirror_mode": {
    "name": "ipython",
    "version": 2
   },
   "file_extension": ".py",
   "mimetype": "text/x-python",
   "name": "python",
   "nbconvert_exporter": "python",
   "pygments_lexer": "ipython2",
   "version": "2.7.12"
  }
 },
 "nbformat": 4,
 "nbformat_minor": 2
}
